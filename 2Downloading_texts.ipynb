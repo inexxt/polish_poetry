{
 "cells": [
  {
   "cell_type": "code",
   "execution_count": null,
   "metadata": {
    "collapsed": true
   },
   "outputs": [],
   "source": [
    "# Downloads poems into `data` folder\n",
    "\n",
    "import requests\n",
    "from tqdm import tqdm\n",
    "from bs4 import BeautifulSoup\n",
    "\n",
    "NUM_OF_THREADS = 6\n",
    "\n",
    "with open(\"links.txt\", \"r\") as f:\n",
    "    all_links = f.readlines()\n",
    "\n",
    "stats = {}\n",
    "broken = []\n",
    "\n",
    "def download(l):\n",
    "    url = l.split(\"\\t\")[0]\n",
    "    unique_name = url.split(\"/\")[-1]\n",
    "    name = \" \".join(l.split(\"\\t\")[1:])\n",
    "    \n",
    "    try:\n",
    "        c = requests.get(url).content\n",
    "        text = BeautifulSoup(c, \"lxml\").find(\"div\", \"content\").strings\n",
    "        text = \"\\n\".join(list(text))\n",
    "\n",
    "#         print(\"downloaded \" + unique_name)\n",
    "        try:\n",
    "            counter = BeautifulSoup(c, \"lxml\").find(\"div\", \"view-counter\").getText().split(\" \")[-1]\n",
    "        except:\n",
    "            counter = -1\n",
    "\n",
    "        with open(\"data/\" + unique_name + \".txt\", \"w\") as f:\n",
    "            f.write(text)\n",
    "\n",
    "        stats[unique_name] = int(counter)\n",
    "\n",
    "    except:\n",
    "        broken.append(l)\n",
    "\n",
    "from multiprocessing import Pool\n",
    "from time import sleep\n",
    "\n",
    "# with Pool(NUM_OF_THREADS) as p:\n",
    "#     max_ = len(all_links)\n",
    "\n",
    "#     with tqdm(total=max_) as pbar:\n",
    "#         for i, _ in tqdm(enumerate(p.imap_unordered(download, all_links))):\n",
    "#             pbar.update()\n",
    "#     pbar.close()\n",
    "\n",
    "#trudno że bez równoleglości\n",
    "for l in tqdm(all_links):\n",
    "    download(l)"
   ]
  }
 ],
 "metadata": {
  "anaconda-cloud": {},
  "kernelspec": {
   "display_name": "Python 3",
   "language": "python",
   "name": "python3"
  },
  "language_info": {
   "codemirror_mode": {
    "name": "ipython",
    "version": 3
   },
   "file_extension": ".py",
   "mimetype": "text/x-python",
   "name": "python",
   "nbconvert_exporter": "python",
   "pygments_lexer": "ipython3",
   "version": "3.6.0"
  }
 },
 "nbformat": 4,
 "nbformat_minor": 1
}
