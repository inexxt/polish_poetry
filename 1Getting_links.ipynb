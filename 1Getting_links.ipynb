{
 "cells": [
  {
   "cell_type": "markdown",
   "metadata": {},
   "source": [
    "# Creates links.txt file, which contains links to all the poems"
   ]
  },
  {
   "cell_type": "code",
   "execution_count": 1,
   "metadata": {
    "collapsed": true
   },
   "outputs": [],
   "source": [
    "links_concrete = {\n",
    "    \"contemporary\": \"https://www.poema.art.pl/kontener/24-polska-wspolczesna\",\n",
    "    \"classics\": \"https://www.poema.art.pl/kontener/1-poezja-polska\",\n",
    "    }\n",
    "\n",
    "BASE_ADDR = \"https://www.poema.art.pl\""
   ]
  },
  {
   "cell_type": "code",
   "execution_count": 2,
   "metadata": {
    "collapsed": true
   },
   "outputs": [],
   "source": [
    "# structure: \n",
    "# links_dir -> first_letter -> name -> list of poems\n",
    "links_dir = \"https://www.poema.art.pl/kontener/35-debiuty-poezja\""
   ]
  },
  {
   "cell_type": "code",
   "execution_count": 3,
   "metadata": {
    "collapsed": true
   },
   "outputs": [],
   "source": [
    "from bs4 import BeautifulSoup\n",
    "import requests"
   ]
  },
  {
   "cell_type": "code",
   "execution_count": 4,
   "metadata": {
    "collapsed": true
   },
   "outputs": [],
   "source": [
    "def fetch_conteners_list(link, with_titles=False):\n",
    "    bs = BeautifulSoup(requests.get(link).content, \"html.parser\")\n",
    "    links = []\n",
    "    descs = []\n",
    "    content = bs.find(\"div\", \"content\")\n",
    "    try:\n",
    "        for c in content.findAll(\"p\", \"title\"):\n",
    "            x = c.find(\"a\")\n",
    "            links.append(x.attrs[\"href\"])\n",
    "            descs.append(x.string)\n",
    "        links = [BASE_ADDR + l for l in links]\n",
    "    except:\n",
    "        pass\n",
    "    \n",
    "    if with_titles:\n",
    "        return list(zip(links, descs))\n",
    "    else:\n",
    "        return links\n",
    "\n",
    "def flatten(l):\n",
    "    return [x for ll in l for x in ll]"
   ]
  },
  {
   "cell_type": "code",
   "execution_count": 5,
   "metadata": {
    "collapsed": true
   },
   "outputs": [],
   "source": [
    "from tqdm import tqdm\n",
    "from time import sleep"
   ]
  },
  {
   "cell_type": "code",
   "execution_count": 6,
   "metadata": {
    "scrolled": true
   },
   "outputs": [
    {
     "name": "stderr",
     "output_type": "stream",
     "text": [
      "100%|██████████| 33/33 [03:23<00:00,  2.82s/it]\n"
     ]
    }
   ],
   "source": [
    "links_amateur = []\n",
    "for list_of_poems in tqdm(fetch_conteners_list(links_dir)):\n",
    "    links_amateur.append(fetch_conteners_list(list_of_poems, with_titles=True))\n",
    "    sleep(0.5)"
   ]
  },
  {
   "cell_type": "code",
   "execution_count": 7,
   "metadata": {
    "collapsed": true
   },
   "outputs": [],
   "source": [
    "links_amateur = flatten(links_amateur)"
   ]
  },
  {
   "cell_type": "code",
   "execution_count": 8,
   "metadata": {},
   "outputs": [
    {
     "data": {
      "text/plain": [
       "('https://www.poema.art.pl/kontener/13113-keyli-15', 'Keyli_15')"
      ]
     },
     "execution_count": 8,
     "metadata": {},
     "output_type": "execute_result"
    }
   ],
   "source": [
    "links_amateur[1000]"
   ]
  },
  {
   "cell_type": "code",
   "execution_count": 9,
   "metadata": {
    "collapsed": true
   },
   "outputs": [],
   "source": [
    "# some of the links are already \"publications\", others are \"containers\"\n",
    "# we now have to split the list into containers and publications"
   ]
  },
  {
   "cell_type": "code",
   "execution_count": 10,
   "metadata": {
    "collapsed": true
   },
   "outputs": [],
   "source": [
    "publications = [(k, v) for (k, v) in links_amateur if \"publikacja\" in k]\n",
    "containers = [(k, v) for (k, v) in links_amateur if \"kontener\" in k]"
   ]
  },
  {
   "cell_type": "code",
   "execution_count": 12,
   "metadata": {},
   "outputs": [
    {
     "data": {
      "text/plain": [
       "223"
      ]
     },
     "execution_count": 12,
     "metadata": {},
     "output_type": "execute_result"
    }
   ],
   "source": [
    "len(publications)"
   ]
  },
  {
   "cell_type": "code",
   "execution_count": null,
   "metadata": {},
   "outputs": [
    {
     "name": "stderr",
     "output_type": "stream",
     "text": [
      "\n",
      "  0%|          | 0/9440 [00:00<?, ?it/s]\u001b[A\n",
      "  0%|          | 1/9440 [00:01<3:38:23,  1.39s/it]\u001b[A\n",
      "  0%|          | 2/9440 [00:02<3:45:40,  1.43s/it]\u001b[A\n",
      "  0%|          | 3/9440 [00:03<3:19:03,  1.27s/it]\u001b[A\n",
      " 26%|██▋       | 2480/9440 [1:10:26<2:12:29,  1.14s/it] "
     ]
    },
    {
     "name": "stdout",
     "output_type": "stream",
     "text": [
      "Broken: https://www.poema.art.pl/kontener/15440-biondo : Biondo\n"
     ]
    },
    {
     "name": "stderr",
     "output_type": "stream",
     "text": [
      " 26%|██▋       | 2483/9440 [1:10:30<2:30:27,  1.30s/it]"
     ]
    },
    {
     "name": "stdout",
     "output_type": "stream",
     "text": [
      "Broken: https://www.poema.art.pl/kontener/6084-birek : Birek\n"
     ]
    },
    {
     "name": "stderr",
     "output_type": "stream",
     "text": [
      " 26%|██▋       | 2485/9440 [1:10:31<2:01:09,  1.05s/it]"
     ]
    },
    {
     "name": "stdout",
     "output_type": "stream",
     "text": [
      "Broken: https://www.poema.art.pl/kontener/22492-biszkopt : Biszkopt\n"
     ]
    },
    {
     "name": "stderr",
     "output_type": "stream",
     "text": [
      "\r",
      " 26%|██▋       | 2486/9440 [1:10:32<1:36:38,  1.20it/s]"
     ]
    },
    {
     "name": "stdout",
     "output_type": "stream",
     "text": [
      "Broken: https://www.poema.art.pl/kontener/19940-bitta-malina : Bitta Malina\n"
     ]
    },
    {
     "name": "stderr",
     "output_type": "stream",
     "text": [
      " 26%|██▋       | 2488/9440 [1:10:32<1:04:25,  1.80it/s]"
     ]
    },
    {
     "name": "stdout",
     "output_type": "stream",
     "text": [
      "Broken: https://www.poema.art.pl/kontener/11071-bitter-fraise : Bitter-fraise\n",
      "Broken: https://www.poema.art.pl/kontener/16266-bittersweet : Bittersweet\n"
     ]
    },
    {
     "name": "stderr",
     "output_type": "stream",
     "text": [
      "\r",
      " 26%|██▋       | 2489/9440 [1:10:35<2:03:49,  1.07s/it]"
     ]
    }
   ],
   "source": [
    "links_amateur_by_author = {}\n",
    "broken = []\n",
    "for (link, author) in tqdm(containers):\n",
    "    try:\n",
    "        links_amateur_by_author[author] = fetch_conteners_list(link, with_titles=True)\n",
    "    except:\n",
    "        broken.append((link, author))\n",
    "        print(\"Broken: {} : {}\".format(link, author))\n",
    "    sleep(0.1)"
   ]
  },
  {
   "cell_type": "code",
   "execution_count": 49,
   "metadata": {
    "collapsed": true
   },
   "outputs": [],
   "source": [
    "with open(\"links_amateur.txt\", \"w\") as f:\n",
    "    f.write(\"\\n\".join(flatten(links_amateur)))"
   ]
  },
  {
   "cell_type": "code",
   "execution_count": 56,
   "metadata": {},
   "outputs": [
    {
     "name": "stderr",
     "output_type": "stream",
     "text": [
      "\r",
      "  0%|          | 0/2 [00:00<?, ?it/s]"
     ]
    },
    {
     "ename": "KeyboardInterrupt",
     "evalue": "",
     "output_type": "error",
     "traceback": [
      "\u001b[0;31m---------------------------------------------------------------------------\u001b[0m",
      "\u001b[0;31mKeyboardInterrupt\u001b[0m                         Traceback (most recent call last)",
      "\u001b[0;32m<ipython-input-56-e93a4b7df355>\u001b[0m in \u001b[0;36m<module>\u001b[0;34m()\u001b[0m\n\u001b[1;32m      3\u001b[0m     \u001b[0;32mfor\u001b[0m \u001b[0ml\u001b[0m \u001b[0;32min\u001b[0m \u001b[0mfetch_conteners_list\u001b[0m\u001b[0;34m(\u001b[0m\u001b[0mv\u001b[0m\u001b[0;34m)\u001b[0m\u001b[0;34m:\u001b[0m\u001b[0;34m\u001b[0m\u001b[0m\n\u001b[1;32m      4\u001b[0m         \u001b[0mlinks_professional\u001b[0m\u001b[0;34m.\u001b[0m\u001b[0mappend\u001b[0m\u001b[0;34m(\u001b[0m\u001b[0mfetch_conteners_list\u001b[0m\u001b[0;34m(\u001b[0m\u001b[0ml\u001b[0m\u001b[0;34m)\u001b[0m\u001b[0;34m)\u001b[0m\u001b[0;34m\u001b[0m\u001b[0m\n\u001b[0;32m----> 5\u001b[0;31m         \u001b[0msleep\u001b[0m\u001b[0;34m(\u001b[0m\u001b[0;36m1\u001b[0m\u001b[0;34m)\u001b[0m\u001b[0;34m\u001b[0m\u001b[0m\n\u001b[0m",
      "\u001b[0;31mKeyboardInterrupt\u001b[0m: "
     ]
    }
   ],
   "source": [
    "links_professional = []\n",
    "for k, v in tqdm(links_concrete.items()):\n",
    "    for l in fetch_conteners_list(v):\n",
    "        links_professional.append(fetch_conteners_list(l))\n",
    "        sleep(1)"
   ]
  },
  {
   "cell_type": "code",
   "execution_count": 54,
   "metadata": {},
   "outputs": [
    {
     "data": {
      "text/plain": [
       "'https://www.poema.art.pl/kontener/575-belwit-christian'"
      ]
     },
     "execution_count": 54,
     "metadata": {},
     "output_type": "execute_result"
    }
   ],
   "source": [
    "links_professional[2]"
   ]
  },
  {
   "cell_type": "code",
   "execution_count": 84,
   "metadata": {
    "collapsed": true
   },
   "outputs": [],
   "source": [
    "links = flatten(links)"
   ]
  },
  {
   "cell_type": "code",
   "execution_count": 94,
   "metadata": {
    "collapsed": true
   },
   "outputs": [],
   "source": [
    "all_poems_links = flatten(all_poems_links)"
   ]
  },
  {
   "cell_type": "code",
   "execution_count": 95,
   "metadata": {},
   "outputs": [
    {
     "data": {
      "text/plain": [
       "100535"
      ]
     },
     "execution_count": 95,
     "metadata": {},
     "output_type": "execute_result"
    }
   ],
   "source": [
    "len(all_poems_links)"
   ]
  },
  {
   "cell_type": "code",
   "execution_count": 104,
   "metadata": {
    "collapsed": true
   },
   "outputs": [],
   "source": [
    "with open(\"links.txt\", \"w\") as f:\n",
    "    for k, v in all_poems_links:\n",
    "        try:\n",
    "            f.write(k + \"\\t\" + v + \"\\n\")\n",
    "        except:\n",
    "            pass"
   ]
  }
 ],
 "metadata": {
  "anaconda-cloud": {},
  "kernelspec": {
   "display_name": "Python 3",
   "language": "python",
   "name": "python3"
  },
  "language_info": {
   "codemirror_mode": {
    "name": "ipython",
    "version": 3
   },
   "file_extension": ".py",
   "mimetype": "text/x-python",
   "name": "python",
   "nbconvert_exporter": "python",
   "pygments_lexer": "ipython3",
   "version": "3.6.1"
  }
 },
 "nbformat": 4,
 "nbformat_minor": 1
}
